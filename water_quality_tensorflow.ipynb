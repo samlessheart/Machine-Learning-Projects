{
  "nbformat": 4,
  "nbformat_minor": 0,
  "metadata": {
    "colab": {
      "name": "Untitled1.ipynb",
      "provenance": [],
      "authorship_tag": "ABX9TyPIEDiV++NJFjkr+OH1lv6G",
      "include_colab_link": true
    },
    "kernelspec": {
      "name": "python3",
      "display_name": "Python 3"
    },
    "language_info": {
      "name": "python"
    }
  },
  "cells": [
    {
      "cell_type": "markdown",
      "metadata": {
        "id": "view-in-github",
        "colab_type": "text"
      },
      "source": [
        "<a href=\"https://colab.research.google.com/github/samlessheart/Machine-Learning-Projects/blob/main/water_quality_tensorflow.ipynb\" target=\"_parent\"><img src=\"https://colab.research.google.com/assets/colab-badge.svg\" alt=\"Open In Colab\"/></a>"
      ]
    },
    {
      "cell_type": "markdown",
      "metadata": {
        "id": "MOL5yzdLa6k2"
      },
      "source": [
        "A simple tensorflwo model for prediction of water quality. \n",
        "Dataset was downloaded from Kaggle ('https://www.kaggle.com/adityakadiwal/water-potability').\n"
      ]
    },
    {
      "cell_type": "code",
      "metadata": {
        "id": "EYQW3I4PPRwC"
      },
      "source": [
        "import numpy as np\n",
        "import pandas as pd\n",
        "import matplotlib.pyplot as plt\n",
        "import tensorflow as tf\n"
      ],
      "execution_count": 3,
      "outputs": []
    },
    {
      "cell_type": "code",
      "metadata": {
        "id": "PAlmp19sQvhS"
      },
      "source": [
        "from sklearn.model_selection import train_test_split\n",
        "from tensorflow.keras import layers\n",
        "from tensorflow.keras.layers.experimental import preprocessing"
      ],
      "execution_count": 27,
      "outputs": []
    },
    {
      "cell_type": "code",
      "metadata": {
        "id": "ScFK07QyPVLw"
      },
      "source": [
        "df = pd.read_csv('/content/water_potability.csv')"
      ],
      "execution_count": 4,
      "outputs": []
    },
    {
      "cell_type": "code",
      "metadata": {
        "id": "F8g0YeWOPb5I"
      },
      "source": [
        "df.head(5)"
      ],
      "execution_count": null,
      "outputs": []
    },
    {
      "cell_type": "code",
      "metadata": {
        "id": "BcsC1rL3Pd0Y"
      },
      "source": [
        "data = df.dropna()"
      ],
      "execution_count": 12,
      "outputs": []
    },
    {
      "cell_type": "code",
      "metadata": {
        "id": "8bxyo_pNPf7n"
      },
      "source": [
        "data.info()"
      ],
      "execution_count": null,
      "outputs": []
    },
    {
      "cell_type": "code",
      "metadata": {
        "id": "CEAMUNgOQTHw"
      },
      "source": [
        "plt.scatter(data['Turbidity'], data['Potability'])\n",
        "plt.show()"
      ],
      "execution_count": null,
      "outputs": []
    },
    {
      "cell_type": "code",
      "metadata": {
        "id": "Jw_dZZ_wRFRp"
      },
      "source": [
        "x_train = data.drop(columns='Potability')\n"
      ],
      "execution_count": 24,
      "outputs": []
    },
    {
      "cell_type": "code",
      "metadata": {
        "id": "2vXhvbqnSk3g"
      },
      "source": [
        "x_train.head()"
      ],
      "execution_count": null,
      "outputs": []
    },
    {
      "cell_type": "code",
      "metadata": {
        "id": "y_5xngbISsmg"
      },
      "source": [
        "y_train = data['Potability']\n",
        "y_train.head()"
      ],
      "execution_count": null,
      "outputs": []
    },
    {
      "cell_type": "code",
      "metadata": {
        "id": "MZneIDEYS3G3"
      },
      "source": [
        "x_train = np.array(x_train)\n",
        "\n",
        "X_train, X_test, y_train, y_test = train_test_split(x_train,y_train,test_size=0.2, random_state=42)"
      ],
      "execution_count": 29,
      "outputs": []
    },
    {
      "cell_type": "code",
      "metadata": {
        "id": "U1e3MI5kT0KO"
      },
      "source": [
        "model = tf.keras.Sequential([\n",
        "                             normalize, \n",
        "                             layers.Dense(32, activation=\"relu\"),\n",
        "                             layers.Dense(32, activation=\"relu\"),\n",
        "                             layers.Dense(1, activation='softmax')\n",
        "])\n",
        "\n",
        "model.compile(loss = 'binary_crossentropy', optimizer='adam', metrics=['accuracy'], )\n",
        "\n",
        "model.fit(X_train, y_train, epochs=100, verbose=2)"
      ],
      "execution_count": null,
      "outputs": []
    },
    {
      "cell_type": "code",
      "metadata": {
        "id": "xwSUOpOHU9Vg"
      },
      "source": [
        "def training(model, x, y, epochs=50):\n",
        "  history = model.fit(x, y, epochs=epochs, verbose=2)\n",
        "  return history"
      ],
      "execution_count": 34,
      "outputs": []
    },
    {
      "cell_type": "code",
      "metadata": {
        "id": "dZYBHMOZXW8O"
      },
      "source": [
        "normalize = preprocessing.Normalization()\n",
        "normalize.adapt(X_train)"
      ],
      "execution_count": 35,
      "outputs": []
    },
    {
      "cell_type": "code",
      "metadata": {
        "id": "C-0LcP6LXmHu"
      },
      "source": [
        "model = tf.keras.Sequential([\n",
        "                             normalize,\n",
        "                             layers.Dense(32, activation=\"relu\"),\n",
        "                             layers.Dense(32, activation=\"relu\"),\n",
        "                             layers.Dropout(0.2),\n",
        "                             layers.Dense(1, activation='sigmoid')\n",
        "])\n",
        "\n",
        "model.compile(loss = 'binary_crossentropy', optimizer='adam', metrics=['accuracy'], )"
      ],
      "execution_count": 47,
      "outputs": []
    },
    {
      "cell_type": "code",
      "metadata": {
        "id": "H7Rbd-p9XpwH"
      },
      "source": [
        "training(model, X_train, y_train, epochs=100)"
      ],
      "execution_count": null,
      "outputs": []
    },
    {
      "cell_type": "code",
      "metadata": {
        "colab": {
          "base_uri": "https://localhost:8080/"
        },
        "collapsed": true,
        "id": "7IPRHpaUXyNu",
        "outputId": "af838c52-c932-4a1d-b76f-3a0fac731ce6"
      },
      "source": [
        "model.evaluate(X_test, y_test)"
      ],
      "execution_count": 46,
      "outputs": [
        {
          "output_type": "stream",
          "text": [
            "13/13 [==============================] - 0s 1ms/step - loss: 0.6726 - accuracy: 0.6749\n"
          ],
          "name": "stdout"
        },
        {
          "output_type": "execute_result",
          "data": {
            "text/plain": [
              "[0.6726154685020447, 0.6749379634857178]"
            ]
          },
          "metadata": {
            "tags": []
          },
          "execution_count": 46
        }
      ]
    },
    {
      "cell_type": "code",
      "metadata": {
        "id": "hyb_TGn4YEeY"
      },
      "source": [
        ""
      ],
      "execution_count": null,
      "outputs": []
    }
  ]
}